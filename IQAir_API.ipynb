{
 "cells": [
  {
   "cell_type": "code",
   "execution_count": null,
   "id": "2e310682",
   "metadata": {},
   "outputs": [],
   "source": [
    "pip install pandas"
   ]
  },
  {
   "cell_type": "code",
   "execution_count": null,
   "id": "64b6d149",
   "metadata": {},
   "outputs": [],
   "source": [
    "pip install requests"
   ]
  },
  {
   "cell_type": "code",
   "execution_count": 35,
   "id": "19266d84",
   "metadata": {},
   "outputs": [],
   "source": [
    "# import packages\n",
    "import requests\n",
    "import pandas as pd\n",
    "import json\n",
    "\n",
    "base_url = \"http://api.airvisual.com/v2/\" "
   ]
  },
  {
   "cell_type": "code",
   "execution_count": 36,
   "id": "ec697bb3",
   "metadata": {},
   "outputs": [],
   "source": [
    "LATITUDE = 51.53873\n",
    "LONGITUDE = 0.09866\n",
    "YOUR_API_KEY = \"f3ab9dc0-ae7c-4d51-9c98-28a88864d829\""
   ]
  },
  {
   "cell_type": "code",
   "execution_count": 37,
   "id": "a7413071",
   "metadata": {},
   "outputs": [],
   "source": [
    "response_IQair = requests.get(base_url + f\"/lat={LATITUDE}/lon={LONGITUDE}/key={token}\")"
   ]
  },
  {
   "cell_type": "code",
   "execution_count": 38,
   "id": "8570811f",
   "metadata": {},
   "outputs": [
    {
     "name": "stdout",
     "output_type": "stream",
     "text": [
      "{\"status\":\"fail\",\"data\":{\"message\":\"incorrect_api_key\"}}\n"
     ]
    }
   ],
   "source": [
    "print(response_IQair.text)"
   ]
  },
  {
   "cell_type": "code",
   "execution_count": null,
   "id": "a20e776d",
   "metadata": {},
   "outputs": [],
   "source": [
    "http://api.airvisual.com/v2/nearest_city?lat={{LATITUDE}}&lon={{LONGITUDE}}&key={{YOUR_API_KEY}}\n"
   ]
  }
 ],
 "metadata": {
  "kernelspec": {
   "display_name": "Python 3 (ipykernel)",
   "language": "python",
   "name": "python3"
  },
  "language_info": {
   "codemirror_mode": {
    "name": "ipython",
    "version": 3
   },
   "file_extension": ".py",
   "mimetype": "text/x-python",
   "name": "python",
   "nbconvert_exporter": "python",
   "pygments_lexer": "ipython3",
   "version": "3.10.2"
  }
 },
 "nbformat": 4,
 "nbformat_minor": 5
}
