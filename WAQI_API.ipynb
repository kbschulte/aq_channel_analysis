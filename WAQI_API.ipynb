{
 "cells": [
  {
   "cell_type": "code",
   "execution_count": 1,
   "id": "262d7157",
   "metadata": {},
   "outputs": [
    {
     "name": "stdout",
     "output_type": "stream",
     "text": [
      "Requirement already satisfied: pandas in /usr/local/Cellar/ipython/8.2.0/libexec/lib/python3.10/site-packages (1.4.1)\n",
      "Requirement already satisfied: numpy>=1.21.0 in /usr/local/Cellar/ipython/8.2.0/libexec/lib/python3.10/site-packages (from pandas) (1.22.3)\n",
      "Requirement already satisfied: python-dateutil>=2.8.1 in /usr/local/Cellar/ipython/8.2.0/libexec/lib/python3.10/site-packages (from pandas) (2.8.2)\n",
      "Requirement already satisfied: pytz>=2020.1 in /usr/local/Cellar/ipython/8.2.0/libexec/lib/python3.10/site-packages (from pandas) (2022.1)\n",
      "Requirement already satisfied: six>=1.5 in /usr/local/Cellar/six/1.16.0_2/lib/python3.10/site-packages (from python-dateutil>=2.8.1->pandas) (1.16.0)\n",
      "\u001b[33mWARNING: You are using pip version 22.0.2; however, version 22.0.4 is available.\n",
      "You should consider upgrading via the '/usr/local/Cellar/ipython/8.2.0/libexec/bin/python3.10 -m pip install --upgrade pip' command.\u001b[0m\u001b[33m\n",
      "\u001b[0mNote: you may need to restart the kernel to use updated packages.\n"
     ]
    }
   ],
   "source": [
    "pip install pandas"
   ]
  },
  {
   "cell_type": "code",
   "execution_count": 2,
   "id": "5cb97690",
   "metadata": {},
   "outputs": [
    {
     "name": "stdout",
     "output_type": "stream",
     "text": [
      "Collecting requests\n",
      "  Using cached requests-2.27.1-py2.py3-none-any.whl (63 kB)\n",
      "Collecting urllib3<1.27,>=1.21.1\n",
      "  Using cached urllib3-1.26.9-py2.py3-none-any.whl (138 kB)\n",
      "Collecting charset-normalizer~=2.0.0\n",
      "  Using cached charset_normalizer-2.0.12-py3-none-any.whl (39 kB)\n",
      "Collecting idna<4,>=2.5\n",
      "  Using cached idna-3.3-py3-none-any.whl (61 kB)\n",
      "Collecting certifi>=2017.4.17\n",
      "  Using cached certifi-2021.10.8-py2.py3-none-any.whl (149 kB)\n",
      "Installing collected packages: certifi, urllib3, idna, charset-normalizer, requests\n",
      "Successfully installed certifi-2021.10.8 charset-normalizer-2.0.12 idna-3.3 requests-2.27.1 urllib3-1.26.9\n",
      "\u001b[33mWARNING: You are using pip version 22.0.2; however, version 22.0.4 is available.\n",
      "You should consider upgrading via the '/usr/local/Cellar/ipython/8.2.0/libexec/bin/python3.10 -m pip install --upgrade pip' command.\u001b[0m\u001b[33m\n",
      "\u001b[0mNote: you may need to restart the kernel to use updated packages.\n"
     ]
    }
   ],
   "source": [
    "pip install requests"
   ]
  },
  {
   "cell_type": "code",
   "execution_count": 277,
   "id": "9f1e2fc2",
   "metadata": {},
   "outputs": [],
   "source": [
    "# import packages\n",
    "import requests\n",
    "import pandas as pd\n",
    "import json\n",
    "\n",
    "base_url = \"https://api.waqi.info\""
   ]
  },
  {
   "cell_type": "code",
   "execution_count": 278,
   "id": "87ef8c72",
   "metadata": {},
   "outputs": [],
   "source": [
    "lat, lng = 51.53873, 0.09866\n",
    "token = \"584a113eeaf11c91b56fab616c36f90842b39607\"\n",
    "response1 = requests.get(base_url + f\"/feed/geo:{lat};{lng}/?token={token}\")"
   ]
  },
  {
   "cell_type": "code",
   "execution_count": 279,
   "id": "f63b0ae7",
   "metadata": {},
   "outputs": [
    {
     "data": {
      "text/plain": [
       "'Station: Redbridge - Ley Street, United Kingdom, Air quality index: 25'"
      ]
     },
     "execution_count": 279,
     "metadata": {},
     "output_type": "execute_result"
    }
   ],
   "source": [
    "\"Station: {}, Air quality index: {}\".format(response1.json()['data']['city']['name'], response1.json()['data']['aqi'])"
   ]
  },
  {
   "cell_type": "code",
   "execution_count": 280,
   "id": "613aba8b",
   "metadata": {},
   "outputs": [],
   "source": [
    "response1 = response1.json()"
   ]
  },
  {
   "cell_type": "code",
   "execution_count": 281,
   "id": "60b7432d",
   "metadata": {},
   "outputs": [],
   "source": [
    "df = pd.json_normalize(response1)"
   ]
  },
  {
   "cell_type": "code",
   "execution_count": 282,
   "id": "f0f9a39f",
   "metadata": {},
   "outputs": [
    {
     "data": {
      "text/html": [
       "<div>\n",
       "<style scoped>\n",
       "    .dataframe tbody tr th:only-of-type {\n",
       "        vertical-align: middle;\n",
       "    }\n",
       "\n",
       "    .dataframe tbody tr th {\n",
       "        vertical-align: top;\n",
       "    }\n",
       "\n",
       "    .dataframe thead th {\n",
       "        text-align: right;\n",
       "    }\n",
       "</style>\n",
       "<table border=\"1\" class=\"dataframe\">\n",
       "  <thead>\n",
       "    <tr style=\"text-align: right;\">\n",
       "      <th></th>\n",
       "      <th>status</th>\n",
       "      <th>data.aqi</th>\n",
       "      <th>data.idx</th>\n",
       "      <th>data.attributions</th>\n",
       "      <th>data.city.geo</th>\n",
       "      <th>data.city.name</th>\n",
       "      <th>data.city.url</th>\n",
       "      <th>data.dominentpol</th>\n",
       "      <th>data.iaqi.h.v</th>\n",
       "      <th>data.iaqi.o3.v</th>\n",
       "      <th>data.iaqi.p.v</th>\n",
       "      <th>data.iaqi.pm10.v</th>\n",
       "      <th>data.iaqi.pm25.v</th>\n",
       "      <th>data.iaqi.t.v</th>\n",
       "      <th>data.iaqi.w.v</th>\n",
       "      <th>data.iaqi.wg.v</th>\n",
       "      <th>data.time.s</th>\n",
       "      <th>data.time.tz</th>\n",
       "      <th>data.time.v</th>\n",
       "      <th>data.time.iso</th>\n",
       "      <th>data.forecast.daily.o3</th>\n",
       "      <th>data.forecast.daily.pm10</th>\n",
       "      <th>data.forecast.daily.pm25</th>\n",
       "      <th>data.forecast.daily.uvi</th>\n",
       "      <th>data.debug.sync</th>\n",
       "    </tr>\n",
       "  </thead>\n",
       "  <tbody>\n",
       "    <tr>\n",
       "      <th>0</th>\n",
       "      <td>ok</td>\n",
       "      <td>25</td>\n",
       "      <td>9041</td>\n",
       "      <td>[{'url': 'http://uk-air.defra.gov.uk/', 'name'...</td>\n",
       "      <td>[51.5694843315237, 0.0829074748964946]</td>\n",
       "      <td>Redbridge - Ley Street, United Kingdom</td>\n",
       "      <td>https://aqicn.org/city/united-kingdom/redbridg...</td>\n",
       "      <td>pm25</td>\n",
       "      <td>63.5</td>\n",
       "      <td>19.8</td>\n",
       "      <td>1016.5</td>\n",
       "      <td>10</td>\n",
       "      <td>25</td>\n",
       "      <td>6</td>\n",
       "      <td>12.6</td>\n",
       "      <td>19.2</td>\n",
       "      <td>2022-04-01 09:00:00</td>\n",
       "      <td>+01:00</td>\n",
       "      <td>1648803600</td>\n",
       "      <td>2022-04-01T09:00:00+01:00</td>\n",
       "      <td>[{'avg': 34, 'day': '2022-04-01', 'max': 40, '...</td>\n",
       "      <td>[{'avg': 7, 'day': '2022-04-01', 'max': 8, 'mi...</td>\n",
       "      <td>[{'avg': 17, 'day': '2022-04-01', 'max': 22, '...</td>\n",
       "      <td>[{'avg': 0, 'day': '2022-04-01', 'max': 3, 'mi...</td>\n",
       "      <td>2022-04-01T19:00:58+09:00</td>\n",
       "    </tr>\n",
       "  </tbody>\n",
       "</table>\n",
       "</div>"
      ],
      "text/plain": [
       "  status  data.aqi  data.idx  \\\n",
       "0     ok        25      9041   \n",
       "\n",
       "                                   data.attributions  \\\n",
       "0  [{'url': 'http://uk-air.defra.gov.uk/', 'name'...   \n",
       "\n",
       "                            data.city.geo  \\\n",
       "0  [51.5694843315237, 0.0829074748964946]   \n",
       "\n",
       "                           data.city.name  \\\n",
       "0  Redbridge - Ley Street, United Kingdom   \n",
       "\n",
       "                                       data.city.url data.dominentpol  \\\n",
       "0  https://aqicn.org/city/united-kingdom/redbridg...             pm25   \n",
       "\n",
       "   data.iaqi.h.v  data.iaqi.o3.v  data.iaqi.p.v  data.iaqi.pm10.v  \\\n",
       "0           63.5            19.8         1016.5                10   \n",
       "\n",
       "   data.iaqi.pm25.v  data.iaqi.t.v  data.iaqi.w.v  data.iaqi.wg.v  \\\n",
       "0                25              6           12.6            19.2   \n",
       "\n",
       "           data.time.s data.time.tz  data.time.v              data.time.iso  \\\n",
       "0  2022-04-01 09:00:00       +01:00   1648803600  2022-04-01T09:00:00+01:00   \n",
       "\n",
       "                              data.forecast.daily.o3  \\\n",
       "0  [{'avg': 34, 'day': '2022-04-01', 'max': 40, '...   \n",
       "\n",
       "                            data.forecast.daily.pm10  \\\n",
       "0  [{'avg': 7, 'day': '2022-04-01', 'max': 8, 'mi...   \n",
       "\n",
       "                            data.forecast.daily.pm25  \\\n",
       "0  [{'avg': 17, 'day': '2022-04-01', 'max': 22, '...   \n",
       "\n",
       "                             data.forecast.daily.uvi  \\\n",
       "0  [{'avg': 0, 'day': '2022-04-01', 'max': 3, 'mi...   \n",
       "\n",
       "             data.debug.sync  \n",
       "0  2022-04-01T19:00:58+09:00  "
      ]
     },
     "execution_count": 282,
     "metadata": {},
     "output_type": "execute_result"
    }
   ],
   "source": [
    "df"
   ]
  },
  {
   "cell_type": "code",
   "execution_count": null,
   "id": "8917a21d",
   "metadata": {},
   "outputs": [],
   "source": []
  }
 ],
 "metadata": {
  "kernelspec": {
   "display_name": "Python 3 (ipykernel)",
   "language": "python",
   "name": "python3"
  },
  "language_info": {
   "codemirror_mode": {
    "name": "ipython",
    "version": 3
   },
   "file_extension": ".py",
   "mimetype": "text/x-python",
   "name": "python",
   "nbconvert_exporter": "python",
   "pygments_lexer": "ipython3",
   "version": "3.10.2"
  }
 },
 "nbformat": 4,
 "nbformat_minor": 5
}
