{
 "cells": [
  {
   "cell_type": "code",
   "execution_count": 1,
   "id": "40cc7beb",
   "metadata": {},
   "outputs": [
    {
     "name": "stdout",
     "output_type": "stream",
     "text": [
      "Requirement already satisfied: pandas in /usr/local/Cellar/ipython/8.2.0/libexec/lib/python3.10/site-packages (1.4.1)\n",
      "Requirement already satisfied: numpy>=1.21.0 in /usr/local/Cellar/ipython/8.2.0/libexec/lib/python3.10/site-packages (from pandas) (1.22.3)\n",
      "Requirement already satisfied: python-dateutil>=2.8.1 in /usr/local/Cellar/ipython/8.2.0/libexec/lib/python3.10/site-packages (from pandas) (2.8.2)\n",
      "Requirement already satisfied: pytz>=2020.1 in /usr/local/Cellar/ipython/8.2.0/libexec/lib/python3.10/site-packages (from pandas) (2022.1)\n",
      "Requirement already satisfied: six>=1.5 in /usr/local/Cellar/six/1.16.0_2/lib/python3.10/site-packages (from python-dateutil>=2.8.1->pandas) (1.16.0)\n",
      "\u001b[33mWARNING: You are using pip version 22.0.2; however, version 22.0.4 is available.\n",
      "You should consider upgrading via the '/usr/local/Cellar/ipython/8.2.0/libexec/bin/python3.10 -m pip install --upgrade pip' command.\u001b[0m\u001b[33m\n",
      "\u001b[0mNote: you may need to restart the kernel to use updated packages.\n"
     ]
    }
   ],
   "source": [
    "pip install pandas"
   ]
  },
  {
   "cell_type": "code",
   "execution_count": 2,
   "id": "1755b747",
   "metadata": {},
   "outputs": [
    {
     "name": "stdout",
     "output_type": "stream",
     "text": [
      "Collecting requests\n",
      "  Using cached requests-2.27.1-py2.py3-none-any.whl (63 kB)\n",
      "Collecting urllib3<1.27,>=1.21.1\n",
      "  Using cached urllib3-1.26.9-py2.py3-none-any.whl (138 kB)\n",
      "Collecting charset-normalizer~=2.0.0\n",
      "  Using cached charset_normalizer-2.0.12-py3-none-any.whl (39 kB)\n",
      "Collecting idna<4,>=2.5\n",
      "  Using cached idna-3.3-py3-none-any.whl (61 kB)\n",
      "Collecting certifi>=2017.4.17\n",
      "  Using cached certifi-2021.10.8-py2.py3-none-any.whl (149 kB)\n",
      "Installing collected packages: certifi, urllib3, idna, charset-normalizer, requests\n",
      "Successfully installed certifi-2021.10.8 charset-normalizer-2.0.12 idna-3.3 requests-2.27.1 urllib3-1.26.9\n",
      "\u001b[33mWARNING: You are using pip version 22.0.2; however, version 22.0.4 is available.\n",
      "You should consider upgrading via the '/usr/local/Cellar/ipython/8.2.0/libexec/bin/python3.10 -m pip install --upgrade pip' command.\u001b[0m\u001b[33m\n",
      "\u001b[0mNote: you may need to restart the kernel to use updated packages.\n"
     ]
    }
   ],
   "source": [
    "pip install requests"
   ]
  },
  {
   "cell_type": "code",
   "execution_count": 26,
   "id": "c928837f",
   "metadata": {},
   "outputs": [],
   "source": [
    "# import packages\n",
    "import requests\n",
    "import pandas as pd\n",
    "import json\n",
    "\n",
    "base_url = \"https://api.waqi.info\""
   ]
  },
  {
   "cell_type": "code",
   "execution_count": 67,
   "id": "af6e0784",
   "metadata": {},
   "outputs": [],
   "source": [
    "lat, lng = 51.53873, 0.09866\n",
    "token = \"584a113eeaf11c91b56fab616c36f90842b39607\"\n",
    "response1 = requests.get(base_url + f\"/feed/geo:{lat};{lng}/?token={token}\")"
   ]
  },
  {
   "cell_type": "code",
   "execution_count": 54,
   "id": "2e51e38f",
   "metadata": {},
   "outputs": [
    {
     "data": {
      "text/plain": [
       "'Station: Redbridge - Ley Street, United Kingdom, Air quality index: 25'"
      ]
     },
     "execution_count": 54,
     "metadata": {},
     "output_type": "execute_result"
    }
   ],
   "source": [
    "\"Station: {}, Air quality index: {}\".format(response1.json()['data']['city']['name'], response1.json()['data']['aqi'])"
   ]
  },
  {
   "cell_type": "code",
   "execution_count": 123,
   "id": "9dbc17b7",
   "metadata": {},
   "outputs": [],
   "source": [
    "#I want to get the data into a dataframe format w. columns for aqi, lat, long, time, attributions(name), witness my faliure below:\n",
    "\n",
    "df = pd.read_json(base_url + f\"/feed/geo:{lat};{lng}/?token={token}\")"
   ]
  },
  {
   "cell_type": "code",
   "execution_count": 124,
   "id": "6613ac3d",
   "metadata": {},
   "outputs": [
    {
     "name": "stdout",
     "output_type": "stream",
     "text": [
      "             status                                               data\n",
      "aqi              ok                                                 33\n",
      "attributions     ok  [{'url': 'http://uk-air.defra.gov.uk/', 'name'...\n",
      "city             ok  {'geo': [51.5694843315237, 0.08290747489649401...\n",
      "debug            ok              {'sync': '2022-03-31T21:45:49+09:00'}\n",
      "dominentpol      ok                                                 o3\n",
      "forecast         ok  {'daily': {'o3': [{'avg': 32, 'day': '2022-03-...\n",
      "iaqi             ok  {'h': {'v': 39.6}, 'o3': {'v': 32.7}, 'p': {'v...\n",
      "idx              ok                                               9041\n",
      "time             ok  {'s': '2022-03-31 12:00:00', 'tz': '+01:00', '...\n"
     ]
    }
   ],
   "source": [
    "print(df)"
   ]
  }
 ],
 "metadata": {
  "kernelspec": {
   "display_name": "Python 3 (ipykernel)",
   "language": "python",
   "name": "python3"
  },
  "language_info": {
   "codemirror_mode": {
    "name": "ipython",
    "version": 3
   },
   "file_extension": ".py",
   "mimetype": "text/x-python",
   "name": "python",
   "nbconvert_exporter": "python",
   "pygments_lexer": "ipython3",
   "version": "3.10.2"
  }
 },
 "nbformat": 4,
 "nbformat_minor": 5
}
