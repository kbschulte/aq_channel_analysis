{
 "cells": [
  {
   "cell_type": "code",
   "execution_count": 1,
   "id": "63371774",
   "metadata": {},
   "outputs": [
    {
     "name": "stdout",
     "output_type": "stream",
     "text": [
      "Requirement already satisfied: pandas in /usr/local/Cellar/ipython/8.2.0/libexec/lib/python3.10/site-packages (1.4.1)\n",
      "Requirement already satisfied: numpy>=1.21.0 in /usr/local/Cellar/ipython/8.2.0/libexec/lib/python3.10/site-packages (from pandas) (1.22.3)\n",
      "Requirement already satisfied: python-dateutil>=2.8.1 in /usr/local/Cellar/ipython/8.2.0/libexec/lib/python3.10/site-packages (from pandas) (2.8.2)\n",
      "Requirement already satisfied: pytz>=2020.1 in /usr/local/Cellar/ipython/8.2.0/libexec/lib/python3.10/site-packages (from pandas) (2022.1)\n",
      "Requirement already satisfied: six>=1.5 in /usr/local/Cellar/six/1.16.0_2/lib/python3.10/site-packages (from python-dateutil>=2.8.1->pandas) (1.16.0)\n",
      "\u001b[33mWARNING: You are using pip version 22.0.2; however, version 22.0.4 is available.\n",
      "You should consider upgrading via the '/usr/local/Cellar/ipython/8.2.0/libexec/bin/python3.10 -m pip install --upgrade pip' command.\u001b[0m\u001b[33m\n",
      "\u001b[0mNote: you may need to restart the kernel to use updated packages.\n"
     ]
    }
   ],
   "source": [
    "pip install pandas"
   ]
  },
  {
   "cell_type": "code",
   "execution_count": 2,
   "id": "61a04ba6",
   "metadata": {},
   "outputs": [
    {
     "name": "stdout",
     "output_type": "stream",
     "text": [
      "Collecting requests\n",
      "  Using cached requests-2.27.1-py2.py3-none-any.whl (63 kB)\n",
      "Collecting urllib3<1.27,>=1.21.1\n",
      "  Using cached urllib3-1.26.9-py2.py3-none-any.whl (138 kB)\n",
      "Collecting charset-normalizer~=2.0.0\n",
      "  Using cached charset_normalizer-2.0.12-py3-none-any.whl (39 kB)\n",
      "Collecting idna<4,>=2.5\n",
      "  Using cached idna-3.3-py3-none-any.whl (61 kB)\n",
      "Collecting certifi>=2017.4.17\n",
      "  Using cached certifi-2021.10.8-py2.py3-none-any.whl (149 kB)\n",
      "Installing collected packages: certifi, urllib3, idna, charset-normalizer, requests\n",
      "Successfully installed certifi-2021.10.8 charset-normalizer-2.0.12 idna-3.3 requests-2.27.1 urllib3-1.26.9\n",
      "\u001b[33mWARNING: You are using pip version 22.0.2; however, version 22.0.4 is available.\n",
      "You should consider upgrading via the '/usr/local/Cellar/ipython/8.2.0/libexec/bin/python3.10 -m pip install --upgrade pip' command.\u001b[0m\u001b[33m\n",
      "\u001b[0mNote: you may need to restart the kernel to use updated packages.\n"
     ]
    }
   ],
   "source": [
    "pip install requests"
   ]
  },
  {
   "cell_type": "code",
   "execution_count": 187,
   "id": "ffae0250",
   "metadata": {},
   "outputs": [],
   "source": [
    "# import packages\n",
    "import requests\n",
    "import pandas as pd\n",
    "import json\n",
    "\n",
    "base_url = \"https://api.waqi.info\""
   ]
  },
  {
   "cell_type": "code",
   "execution_count": 194,
   "id": "22c96c63",
   "metadata": {},
   "outputs": [],
   "source": [
    "lat, lng = 51.53873, 0.09866\n",
    "token = \"584a113eeaf11c91b56fab616c36f90842b39607\"\n",
    "response1 = requests.get(base_url + f\"/feed/geo:{lat};{lng}/?token={token}\")"
   ]
  },
  {
   "cell_type": "code",
   "execution_count": 159,
   "id": "5983ae75",
   "metadata": {},
   "outputs": [
    {
     "data": {
      "text/plain": [
       "'Station: Redbridge - Ley Street, United Kingdom, Air quality index: 30'"
      ]
     },
     "execution_count": 159,
     "metadata": {},
     "output_type": "execute_result"
    }
   ],
   "source": [
    "\"Station: {}, Air quality index: {}\".format(response1.json()['data']['city']['name'], response1.json()['data']['aqi'])"
   ]
  },
  {
   "cell_type": "code",
   "execution_count": 195,
   "id": "9fc8647f",
   "metadata": {},
   "outputs": [
    {
     "data": {
      "text/plain": [
       "{'aqi': 30,\n",
       " 'idx': 9041,\n",
       " 'attributions': [{'url': 'http://uk-air.defra.gov.uk/',\n",
       "   'name': 'UK-AIR, air quality information resource - Defra, UK',\n",
       "   'logo': 'UK-Department-for-environment-food-and-rural-affairs.png'},\n",
       "  {'url': 'https://londonair.org.uk/',\n",
       "   'name': \"London Air Quality Network - Environmental Research Group, King's College London\",\n",
       "   'logo': 'UK-London-Kings-College.png'},\n",
       "  {'url': 'https://waqi.info/', 'name': 'World Air Quality Index Project'}],\n",
       " 'city': {'geo': [51.5694843315237, 0.0829074748964946],\n",
       "  'name': 'Redbridge - Ley Street, United Kingdom',\n",
       "  'url': 'https://aqicn.org/city/united-kingdom/redbridge-ley-street'},\n",
       " 'dominentpol': 'pm25',\n",
       " 'iaqi': {'h': {'v': 35.2},\n",
       "  'o3': {'v': 33.1},\n",
       "  'p': {'v': 1009.5},\n",
       "  'pm10': {'v': 22},\n",
       "  'pm25': {'v': 30},\n",
       "  't': {'v': 7.7},\n",
       "  'w': {'v': 15.7},\n",
       "  'wg': {'v': 22.5}},\n",
       " 'time': {'s': '2022-03-31 14:00:00',\n",
       "  'tz': '+01:00',\n",
       "  'v': 1648735200,\n",
       "  'iso': '2022-03-31T14:00:00+01:00'},\n",
       " 'forecast': {'daily': {'o3': [{'avg': 32,\n",
       "     'day': '2022-03-31',\n",
       "     'max': 38,\n",
       "     'min': 27},\n",
       "    {'avg': 34, 'day': '2022-04-01', 'max': 40, 'min': 31},\n",
       "    {'avg': 29, 'day': '2022-04-02', 'max': 39, 'min': 21},\n",
       "    {'avg': 26, 'day': '2022-04-03', 'max': 38, 'min': 16},\n",
       "    {'avg': 17, 'day': '2022-04-04', 'max': 17, 'min': 15}],\n",
       "   'pm10': [{'avg': 6, 'day': '2022-03-31', 'max': 7, 'min': 4},\n",
       "    {'avg': 7, 'day': '2022-04-01', 'max': 8, 'min': 6},\n",
       "    {'avg': 9, 'day': '2022-04-02', 'max': 13, 'min': 5},\n",
       "    {'avg': 13, 'day': '2022-04-03', 'max': 18, 'min': 6},\n",
       "    {'avg': 21, 'day': '2022-04-04', 'max': 23, 'min': 21}],\n",
       "   'pm25': [{'avg': 14, 'day': '2022-03-31', 'max': 15, 'min': 9},\n",
       "    {'avg': 16, 'day': '2022-04-01', 'max': 17, 'min': 11},\n",
       "    {'avg': 28, 'day': '2022-04-02', 'max': 43, 'min': 15},\n",
       "    {'avg': 36, 'day': '2022-04-03', 'max': 54, 'min': 18},\n",
       "    {'avg': 64, 'day': '2022-04-04', 'max': 70, 'min': 64}],\n",
       "   'uvi': [{'avg': 0, 'day': '2022-03-31', 'max': 2, 'min': 0},\n",
       "    {'avg': 0, 'day': '2022-04-01', 'max': 2, 'min': 0},\n",
       "    {'avg': 0, 'day': '2022-04-02', 'max': 3, 'min': 0},\n",
       "    {'avg': 0, 'day': '2022-04-03', 'max': 2, 'min': 0},\n",
       "    {'avg': 0, 'day': '2022-04-04', 'max': 2, 'min': 0},\n",
       "    {'avg': 0, 'day': '2022-04-05', 'max': 0, 'min': 0}]}},\n",
       " 'debug': {'sync': '2022-04-01T00:18:59+09:00'}}"
      ]
     },
     "execution_count": 195,
     "metadata": {},
     "output_type": "execute_result"
    }
   ],
   "source": [
    "response1.json()['data']"
   ]
  },
  {
   "cell_type": "code",
   "execution_count": 199,
   "id": "c68867f1",
   "metadata": {},
   "outputs": [],
   "source": [
    "response1 = response1.json()"
   ]
  },
  {
   "cell_type": "code",
   "execution_count": 200,
   "id": "abedf649",
   "metadata": {},
   "outputs": [],
   "source": [
    "response1 = response1['data']"
   ]
  },
  {
   "cell_type": "code",
   "execution_count": 201,
   "id": "3ace7feb",
   "metadata": {},
   "outputs": [
    {
     "name": "stdout",
     "output_type": "stream",
     "text": [
      "aqi\n",
      "idx\n",
      "attributions\n",
      "city\n",
      "dominentpol\n",
      "iaqi\n",
      "time\n",
      "forecast\n",
      "debug\n"
     ]
    }
   ],
   "source": [
    "for i in response1:\n",
    "    print(i)"
   ]
  },
  {
   "cell_type": "code",
   "execution_count": 202,
   "id": "4b2c88da",
   "metadata": {},
   "outputs": [
    {
     "data": {
      "text/html": [
       "<div>\n",
       "<style scoped>\n",
       "    .dataframe tbody tr th:only-of-type {\n",
       "        vertical-align: middle;\n",
       "    }\n",
       "\n",
       "    .dataframe tbody tr th {\n",
       "        vertical-align: top;\n",
       "    }\n",
       "\n",
       "    .dataframe thead th {\n",
       "        text-align: right;\n",
       "    }\n",
       "</style>\n",
       "<table border=\"1\" class=\"dataframe\">\n",
       "  <thead>\n",
       "    <tr style=\"text-align: right;\">\n",
       "      <th></th>\n",
       "      <th>aqi</th>\n",
       "      <th>time</th>\n",
       "    </tr>\n",
       "  </thead>\n",
       "  <tbody>\n",
       "    <tr>\n",
       "      <th>0</th>\n",
       "      <td>NaN</td>\n",
       "      <td>[time]</td>\n",
       "    </tr>\n",
       "    <tr>\n",
       "      <th>1</th>\n",
       "      <td>NaN</td>\n",
       "      <td>[time]</td>\n",
       "    </tr>\n",
       "    <tr>\n",
       "      <th>2</th>\n",
       "      <td>NaN</td>\n",
       "      <td>[time]</td>\n",
       "    </tr>\n",
       "    <tr>\n",
       "      <th>3</th>\n",
       "      <td>NaN</td>\n",
       "      <td>[time]</td>\n",
       "    </tr>\n",
       "    <tr>\n",
       "      <th>4</th>\n",
       "      <td>NaN</td>\n",
       "      <td>[time]</td>\n",
       "    </tr>\n",
       "  </tbody>\n",
       "</table>\n",
       "</div>"
      ],
      "text/plain": [
       "   aqi    time\n",
       "0  NaN  [time]\n",
       "1  NaN  [time]\n",
       "2  NaN  [time]\n",
       "3  NaN  [time]\n",
       "4  NaN  [time]"
      ]
     },
     "execution_count": 202,
     "metadata": {},
     "output_type": "execute_result"
    }
   ],
   "source": [
    "#I want to get the data into a dataframe format w. columns for aqi, lat, long, time, attributions(name), witness my faliure below:\n",
    "\n",
    "def make_dataframe(response1):\n",
    "    \"\"\"Extracts data from request r and returns a DataFrame.\"\"\"\n",
    "    rows = []\n",
    "    for i in response1:\n",
    "        rows.append([['aqi'], ['time']])\n",
    "    df = pd.DataFrame(rows, columns=['aqi', 'time'])\n",
    "    df['aqi'] = pd.to_numeric(df.aqi, errors='coerce')\n",
    "    return df\n",
    "\n",
    "df = make_dataframe(response1)\n",
    "df.head()"
   ]
  },
  {
   "cell_type": "code",
   "execution_count": null,
   "id": "7ff75b6c",
   "metadata": {},
   "outputs": [],
   "source": []
  }
 ],
 "metadata": {
  "kernelspec": {
   "display_name": "Python 3 (ipykernel)",
   "language": "python",
   "name": "python3"
  },
  "language_info": {
   "codemirror_mode": {
    "name": "ipython",
    "version": 3
   },
   "file_extension": ".py",
   "mimetype": "text/x-python",
   "name": "python",
   "nbconvert_exporter": "python",
   "pygments_lexer": "ipython3",
   "version": "3.10.2"
  }
 },
 "nbformat": 4,
 "nbformat_minor": 5
}
