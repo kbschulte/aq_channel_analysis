{
 "cells": [
  {
   "cell_type": "code",
   "execution_count": 20,
   "id": "14381611",
   "metadata": {},
   "outputs": [
    {
     "name": "stdout",
     "output_type": "stream",
     "text": [
      "Requirement already satisfied: pandas in /usr/local/Cellar/ipython/8.2.0/libexec/lib/python3.10/site-packages (1.4.1)\n",
      "Requirement already satisfied: numpy>=1.21.0 in /usr/local/Cellar/ipython/8.2.0/libexec/lib/python3.10/site-packages (from pandas) (1.22.3)\n",
      "Requirement already satisfied: pytz>=2020.1 in /usr/local/Cellar/ipython/8.2.0/libexec/lib/python3.10/site-packages (from pandas) (2022.1)\n",
      "Requirement already satisfied: python-dateutil>=2.8.1 in /usr/local/Cellar/ipython/8.2.0/libexec/lib/python3.10/site-packages (from pandas) (2.8.2)\n",
      "Requirement already satisfied: six>=1.5 in /usr/local/Cellar/six/1.16.0_2/lib/python3.10/site-packages (from python-dateutil>=2.8.1->pandas) (1.16.0)\n",
      "\u001b[33mWARNING: You are using pip version 22.0.2; however, version 22.0.4 is available.\n",
      "You should consider upgrading via the '/usr/local/Cellar/ipython/8.2.0/libexec/bin/python3.10 -m pip install --upgrade pip' command.\u001b[0m\u001b[33m\n",
      "\u001b[0mNote: you may need to restart the kernel to use updated packages.\n"
     ]
    }
   ],
   "source": [
    "pip install pandas"
   ]
  },
  {
   "cell_type": "code",
   "execution_count": 21,
   "id": "863f27b2",
   "metadata": {},
   "outputs": [
    {
     "name": "stdout",
     "output_type": "stream",
     "text": [
      "Requirement already satisfied: requests in /usr/local/Cellar/ipython/8.2.0/libexec/lib/python3.10/site-packages (2.27.1)\n",
      "Requirement already satisfied: charset-normalizer~=2.0.0 in /usr/local/Cellar/ipython/8.2.0/libexec/lib/python3.10/site-packages (from requests) (2.0.12)\n",
      "Requirement already satisfied: urllib3<1.27,>=1.21.1 in /usr/local/Cellar/ipython/8.2.0/libexec/lib/python3.10/site-packages (from requests) (1.26.9)\n",
      "Requirement already satisfied: idna<4,>=2.5 in /usr/local/Cellar/ipython/8.2.0/libexec/lib/python3.10/site-packages (from requests) (3.3)\n",
      "Requirement already satisfied: certifi>=2017.4.17 in /usr/local/Cellar/ipython/8.2.0/libexec/lib/python3.10/site-packages (from requests) (2021.10.8)\n",
      "\u001b[33mWARNING: You are using pip version 22.0.2; however, version 22.0.4 is available.\n",
      "You should consider upgrading via the '/usr/local/Cellar/ipython/8.2.0/libexec/bin/python3.10 -m pip install --upgrade pip' command.\u001b[0m\u001b[33m\n",
      "\u001b[0mNote: you may need to restart the kernel to use updated packages.\n"
     ]
    }
   ],
   "source": [
    "pip install requests"
   ]
  },
  {
   "cell_type": "code",
   "execution_count": 22,
   "id": "d6fa7ad7",
   "metadata": {},
   "outputs": [],
   "source": [
    "# import packages\n",
    "import requests\n",
    "import pandas as pd\n",
    "import json\n",
    "\n",
    "base_url = \"https://api.erg.ic.ac.uk/AirQuality\" "
   ]
  },
  {
   "cell_type": "code",
   "execution_count": 96,
   "id": "afe75d19",
   "metadata": {},
   "outputs": [],
   "source": [
    "response = requests.get(base_url + f\"/\" + \"Hourly/\" + \"Map/\" + \"Json\")\n",
    " + \"SiteData={lat};{lng}/\" "
   ]
  },
  {
   "cell_type": "code",
   "execution_count": 97,
   "id": "ebae6765",
   "metadata": {},
   "outputs": [
    {
     "name": "stdout",
     "output_type": "stream",
     "text": [
      "{\"Maps\":{\"@TimeToLive\":\"27\",\"@EventWarningTitle\":\"\",\"@EventWarningText\":\"\",\"@MeasurementDateLong\":\"12:00 on Friday 1st April 2022\",\"Map\":[{\"@SpeciesCode\":\"NO2\",\"@StartDate\":\"01/04/2022 11:00:00\",\"@EndDate\":\"01/04/2022 12:00:00\",\"@SpeciesName\":\"Nitrogen Dioxide\",\"@MeasurementDateLong\":\"12:00 on Friday 1st April 2022\",\"@MeasurementDate\":\"01/04/2022 12:00:00\"},{\"@SpeciesCode\":\"O3\",\"@StartDate\":\"01/04/2022 11:00:00\",\"@EndDate\":\"01/04/2022 16:00:00\",\"@SpeciesName\":\"Ozone\",\"@MeasurementDateLong\":\"12:00 on Friday 1st April 2022\",\"@MeasurementDate\":\"01/04/2022 12:00:00\"},{\"@SpeciesCode\":\"PM10\",\"@StartDate\":\"01/04/2022 01:00:00\",\"@EndDate\":\"02/04/2022 01:00:00\",\"@SpeciesName\":\"PM10 Particulate\",\"@MeasurementDateLong\":\"12:00 on Friday 1st April 2022\",\"@MeasurementDate\":\"01/04/2022 12:00:00\"},{\"@SpeciesCode\":\"PM25\",\"@StartDate\":\"01/04/2022 01:00:00\",\"@EndDate\":\"02/04/2022 01:00:00\",\"@SpeciesName\":\"PM2.5 Particulate\",\"@MeasurementDateLong\":\"12:00 on Friday 1st April 2022\",\"@MeasurementDate\":\"01/04/2022 12:00:00\"}]}}\n"
     ]
    }
   ],
   "source": [
    "print(response.text)"
   ]
  },
  {
   "cell_type": "code",
   "execution_count": 92,
   "id": "f955225f",
   "metadata": {},
   "outputs": [],
   "source": [
    "lat, lng = 51.53873, 0.09866\n",
    "response = requests.get(base_url + f\"/\" + \"Hourly/\" + \"MonitoringIndex/\" + \"GroupName=London/\" + \"Json\")"
   ]
  },
  {
   "cell_type": "code",
   "execution_count": 93,
   "id": "ff04d70f",
   "metadata": {},
   "outputs": [
    {
     "name": "stdout",
     "output_type": "stream",
     "text": [
      "﻿<?xml version=\"1.0\" encoding=\"utf-8\"?>\r\n",
      "<!DOCTYPE html PUBLIC \"-//W3C//DTD XHTML 1.0 Transitional//EN\" \"http://www.w3.org/TR/xhtml1/DTD/xhtml1-transitional.dtd\">\r\n",
      "<html xmlns=\"http://www.w3.org/1999/xhtml\">\r\n",
      "  <head>\r\n",
      "    <title>Service</title>\r\n",
      "    <style>BODY { color: #000000; background-color: white; font-family: Verdana; margin-left: 0px; margin-top: 0px; } #content { margin-left: 30px; font-size: .70em; padding-bottom: 2em; } A:link { color: #336699; font-weight: bold; text-decoration: underline; } A:visited { color: #6699cc; font-weight: bold; text-decoration: underline; } A:active { color: #336699; font-weight: bold; text-decoration: underline; } .heading1 { background-color: #003366; border-bottom: #336699 6px solid; color: #ffffff; font-family: Tahoma; font-size: 26px; font-weight: normal;margin: 0em 0em 10px -20px; padding-bottom: 8px; padding-left: 30px;padding-top: 16px;} pre { font-size:small; background-color: #e5e5cc; padding: 5px; font-family: Courier New; margin-top: 0px; border: 1px #f0f0e0 solid; white-space: pre-wrap; white-space: -pre-wrap; word-wrap: break-word; } table { border-collapse: collapse; border-spacing: 0px; font-family: Verdana;} table th { border-right: 2px white solid; border-bottom: 2px white solid; font-weight: bold; background-color: #cecf9c;} table td { border-right: 2px white solid; border-bottom: 2px white solid; background-color: #e5e5cc;}</style>\r\n",
      "  </head>\r\n",
      "  <body>\r\n",
      "    <div id=\"content\">\r\n",
      "      <p class=\"heading1\">Service</p>\r\n",
      "      <p xmlns=\"\">Endpoint not found. Please see the <a rel=\"help-page\" href=\"https://api.erg.ic.ac.uk/AirQuality/help\">service help page</a> for constructing valid requests to the service.</p>\r\n",
      "    </div>\r\n",
      "  </body>\r\n",
      "</html>\n"
     ]
    }
   ],
   "source": [
    "print(response.text)"
   ]
  },
  {
   "cell_type": "code",
   "execution_count": null,
   "id": "f6504775",
   "metadata": {},
   "outputs": [],
   "source": []
  }
 ],
 "metadata": {
  "kernelspec": {
   "display_name": "Python 3 (ipykernel)",
   "language": "python",
   "name": "python3"
  },
  "language_info": {
   "codemirror_mode": {
    "name": "ipython",
    "version": 3
   },
   "file_extension": ".py",
   "mimetype": "text/x-python",
   "name": "python",
   "nbconvert_exporter": "python",
   "pygments_lexer": "ipython3",
   "version": "3.10.2"
  }
 },
 "nbformat": 4,
 "nbformat_minor": 5
}
